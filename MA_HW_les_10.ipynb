{
  "nbformat": 4,
  "nbformat_minor": 0,
  "metadata": {
    "colab": {
      "name": "MA_HW_les_10.ipynb",
      "provenance": [],
      "collapsed_sections": []
    },
    "kernelspec": {
      "name": "python3",
      "display_name": "Python 3"
    },
    "language_info": {
      "name": "python"
    }
  },
  "cells": [
    {
      "cell_type": "markdown",
      "metadata": {
        "id": "sgb6cWeu6dYk"
      },
      "source": [
        "#**Домашнее задание к уроку 10**"
      ]
    },
    {
      "cell_type": "markdown",
      "metadata": {
        "id": "-2t26VQkwyBx"
      },
      "source": [
        "## Понятие об интеграле"
      ]
    },
    {
      "cell_type": "markdown",
      "metadata": {
        "id": "K8BOFdcKw59T"
      },
      "source": [
        "### Задание 1"
      ]
    },
    {
      "cell_type": "markdown",
      "metadata": {
        "id": "fYlG6eaddejZ"
      },
      "source": [
        "Найти неопределенный интеграл"
      ]
    },
    {
      "cell_type": "markdown",
      "metadata": {
        "id": "ufAQ6yXUecq2"
      },
      "source": [
        "$\\int{(2x^2-2x-1+\\sin x-\\cos x+\\ln x+e^x)}dx=2\\int{x^2 dx}-2\\int{x dx}-\\int{1 dx}+{\\sin x dx} - \\int{\\cos x dx} + \\int{ \\ln x dx} + \\int{e^x dx}$"
      ]
    },
    {
      "cell_type": "markdown",
      "metadata": {
        "id": "SBrWB30buraZ"
      },
      "source": [
        "Все интегралы в данной сумме табличные кроме интеграла от $\\ln x$<br>\n",
        "Возьмём данный интеграл по частям:<br>\n",
        "$\\int{\\ln x dx}=x\\ln x-\\int{x d(\\ln x)}=x \\ln x -x$"
      ]
    },
    {
      "cell_type": "markdown",
      "metadata": {
        "id": "Xg5JcCroccEM"
      },
      "source": [
        "$\\int{(2x^2-2x-1+\\sin x-\\cos x+\\ln x+e^x)}dx=\\frac{2}{3}x^3-x^2-x-\\cos x -\\sin x+x \\ln x -x+e^x+C=\\frac{2}{3}x^3-x^2-2x-\\cos x -\\sin x+x \\ln x+e^x+C$"
      ]
    },
    {
      "cell_type": "markdown",
      "metadata": {
        "id": "Rvu2TbeHWyDa"
      },
      "source": [
        "### Задание 2"
      ]
    },
    {
      "cell_type": "markdown",
      "metadata": {
        "id": "TY08mcvRX6U8"
      },
      "source": [
        "Найти неопределенный интеграл:"
      ]
    },
    {
      "cell_type": "markdown",
      "metadata": {
        "id": "bym9i9pk_zf7"
      },
      "source": [
        "$x$ - переменная, по которой происходит интегрирование, $y$ и $z$ - некие параметры"
      ]
    },
    {
      "cell_type": "markdown",
      "metadata": {
        "id": "ulKD3J_SRNPf"
      },
      "source": [
        "$\\int{(2x+6xz^2-5x^2y-3\\ln z) dx}=2\\int{x dx}+6z^2\\int{x dx}-5y\\int{x^2 dx}-3 \\ln z \\int{1 dx}=x^2+3z^2x^2-\\frac{5}{3}yx^3-3x \\ln z  +C$"
      ]
    },
    {
      "cell_type": "markdown",
      "metadata": {
        "id": "TEyOxpIsv2k9"
      },
      "source": [
        "### Задание 3\n"
      ]
    },
    {
      "cell_type": "markdown",
      "metadata": {
        "id": "HMFtJCu4wH7E"
      },
      "source": [
        "Вычислить определенный интеграл:\n"
      ]
    },
    {
      "cell_type": "markdown",
      "metadata": {
        "id": "HID1QGo1w0NB"
      },
      "source": [
        "$\\int_{0}^{\\pi}{3x^2\\sin{(2x)} dx}$"
      ]
    },
    {
      "cell_type": "markdown",
      "metadata": {
        "id": "5hed6ihXvyfE"
      },
      "source": [
        "Вычислим данный интеграл по частям:<br>\n",
        "$U=x^2$, тогда $dU=2xdx$<br>\n",
        "$dV=\\sin (2x) dx$, тогда $V=-\\frac{1}{2}\\cos (2x)$<br>\n",
        "$\\int_{0}^{\\pi}{3x^2\\sin{(2x)} dx} = 3(-\\frac{x^2}{2}\\cos (2x)+\\int{x\\cos(2x)dx})|_{0}^{\\pi}$"
      ]
    },
    {
      "cell_type": "markdown",
      "metadata": {
        "id": "jlCFtBcgs4UO"
      },
      "source": [
        "Вычислим отдельно интеграл в скобках:<br>\n",
        "$T=x$, тогда $dT=dx$<br>\n",
        "$dS=\\cos(2x)dx$, тогда $S=\\frac{1}{2}\\sin (2x)$<br>\n",
        "$\\int{x\\cos(2x)dx}=\\frac{x}{2}\\sin(2x)-\\int{\\frac{1}{2}\\sin (2x) dx}=\\frac{x}{2}\\sin(2x)+\\frac{1}{4}\\cos (2x)$"
      ]
    },
    {
      "cell_type": "markdown",
      "metadata": {
        "id": "r0jzpweB2B-c"
      },
      "source": [
        "$\\int_{0}^{\\pi}{3x^2\\sin{(2x)} dx} = 3(-\\frac{x^2}{2}\\cos (2x)+\\frac{x}{2}\\sin(2x)+\\frac{1}{4}\\cos (2x))|_{0}^{\\pi}=3(\\frac{1}{4}-\\frac{\\pi^2}{2}-\\frac{1}{4})=-\\frac{3\\pi^2}{2}$"
      ]
    },
    {
      "cell_type": "markdown",
      "metadata": {
        "id": "6OcufvID9ao_"
      },
      "source": [
        "### Задание 4"
      ]
    },
    {
      "cell_type": "markdown",
      "metadata": {
        "id": "GvoEv6in0Fpl"
      },
      "source": [
        "Найти неопределенный интеграл:\n"
      ]
    },
    {
      "cell_type": "markdown",
      "metadata": {
        "id": "xDEjBhYb0wIz"
      },
      "source": [
        "$\\int{\\frac{1}{\\sqrt{x+1}}dx}=\\int{(x+1)^{-\\frac{1}{2}}d(x+1)}=2(x+1)^{\\frac{1}{2}}+C=2\\sqrt{x+1}+C$"
      ]
    }
  ]
}