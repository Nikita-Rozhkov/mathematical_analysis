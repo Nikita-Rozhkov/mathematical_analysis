{
  "nbformat": 4,
  "nbformat_minor": 0,
  "metadata": {
    "colab": {
      "name": "MA_HW_les_5.ipynb",
      "provenance": [],
      "collapsed_sections": []
    },
    "kernelspec": {
      "name": "python3",
      "display_name": "Python 3"
    },
    "language_info": {
      "name": "python"
    }
  },
  "cells": [
    {
      "cell_type": "markdown",
      "metadata": {
        "id": "sgb6cWeu6dYk"
      },
      "source": [
        "#**Домашнее задание к уроку 5**"
      ]
    },
    {
      "cell_type": "markdown",
      "metadata": {
        "id": "-2t26VQkwyBx"
      },
      "source": [
        "## Предел *функции*"
      ]
    },
    {
      "cell_type": "markdown",
      "metadata": {
        "id": "RRUUffh6ufic"
      },
      "source": [
        "### Задание 4"
      ]
    },
    {
      "cell_type": "markdown",
      "metadata": {
        "id": "T4EoUcnmijj_"
      },
      "source": [
        "Найти предел"
      ]
    },
    {
      "cell_type": "markdown",
      "metadata": {
        "id": "FFw2sqdNj99i"
      },
      "source": [
        "**c.** $\\lim_{x\\to\\infty}(\\frac{x+3}{x})^{4x+1}=\\lim_{x\\to\\infty}(1+\\frac{3}{x})^{4x+1}=e^{\\lim_{x\\to\\infty}12+\\frac{3}{x}}=e^{12}$ "
      ]
    },
    {
      "cell_type": "markdown",
      "metadata": {
        "id": "jtEq_DCsvvm8"
      },
      "source": [
        "## Теоремы о пределах"
      ]
    },
    {
      "cell_type": "markdown",
      "metadata": {
        "id": "aOgQqe-r6SOJ"
      },
      "source": [
        "### Задание 1"
      ]
    },
    {
      "cell_type": "markdown",
      "metadata": {
        "id": "QOwbld-XwB6V"
      },
      "source": [
        "Найти предел\n"
      ]
    },
    {
      "cell_type": "markdown",
      "metadata": {
        "id": "K0TwgEf2wEas"
      },
      "source": [
        "**d.** $\\lim_{x\\to\\infty}(\\frac{4x+3}{4x-3})^{6x}=\\lim_{x\\to\\infty}(\\frac{6}{4x-3}+1)^{6x}=e^{\\lim_{x\\to\\infty}\\frac{36x}{4x-3}}=e^{\\lim_{x\\to\\infty}\\frac{36}{4-\\frac{3}{x}}}=e^9$"
      ]
    },
    {
      "cell_type": "markdown",
      "metadata": {
        "id": "ziaqsIEsxJI-"
      },
      "source": [
        "**e.** $\\lim_{x\\to\\infty}\\frac{\\sin x+ \\ln x}{x}=\\lim_{x\\to\\infty}\\frac{\\sin  x}{x}+\\lim_{x\\to\\infty}\\frac{\\ln x}{x}=0+0=0$"
      ]
    },
    {
      "cell_type": "markdown",
      "metadata": {
        "id": "AHLsOw_q5Rca"
      },
      "source": [
        "**f.** $\\lim_{x\\to 0}\\frac{\\sin x+ \\ln x}{x}=\\lim_{x\\to 0}\\frac{\\sin  x}{x}+\\lim_{x\\to 0}\\frac{\\ln x}{x}=\\infty$"
      ]
    }
  ]
}