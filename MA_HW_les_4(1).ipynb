{
  "nbformat": 4,
  "nbformat_minor": 0,
  "metadata": {
    "colab": {
      "name": "MA_HW_les_4.ipynb",
      "provenance": [],
      "collapsed_sections": []
    },
    "kernelspec": {
      "name": "python3",
      "display_name": "Python 3"
    },
    "language_info": {
      "name": "python"
    }
  },
  "cells": [
    {
      "cell_type": "markdown",
      "metadata": {
        "id": "sgb6cWeu6dYk"
      },
      "source": [
        "#**Домашнее задание к уроку 4**"
      ]
    },
    {
      "cell_type": "markdown",
      "metadata": {
        "id": "-2t26VQkwyBx"
      },
      "source": [
        "## Предел *функции*"
      ]
    },
    {
      "cell_type": "markdown",
      "metadata": {
        "id": "K8BOFdcKw59T"
      },
      "source": [
        "### Задание 1"
      ]
    },
    {
      "cell_type": "markdown",
      "metadata": {
        "id": "YLh11z5lxFt2"
      },
      "source": [
        "Предложить пример функции, не имеющей предела в нуле и в бесконечностях.\n",
        "\n",
        "\n",
        "\n",
        "\n"
      ]
    },
    {
      "cell_type": "markdown",
      "metadata": {
        "id": "Xqfe6Vxgx4sf"
      },
      "source": [
        "Примером такой функции может быть $f(x)=\\sin(\\frac{1}{x})$"
      ]
    },
    {
      "cell_type": "code",
      "metadata": {
        "colab": {
          "base_uri": "https://localhost:8080/",
          "height": 265
        },
        "id": "iLiRRmc0CTmg",
        "outputId": "9f19841e-54cd-42ea-dcb4-d24dc9562f35"
      },
      "source": [
        "#b. Построим график данной функции\n",
        "import numpy as np\n",
        "from matplotlib import pyplot as plt\n",
        "%matplotlib inline\n",
        "\n",
        "x = np.linspace(-10, 10, 200)\n",
        "y = np.sin(1/x)\n",
        "plt.plot(x, y)\n",
        "plt.show()"
      ],
      "execution_count": 2,
      "outputs": [
        {
          "output_type": "display_data",
          "data": {
            "image/png": "[encoded data removed]",
            "text/plain": [
              "<Figure size 432x288 with 1 Axes>"
            ]
          },
          "metadata": {
            "tags": [],
            "needs_background": "light"
          }
        }
      ]
    },
    {
      "cell_type": "markdown",
      "metadata": {
        "id": "nJ2HuoREEz-q"
      },
      "source": [
        "### Задание 2"
      ]
    },
    {
      "cell_type": "markdown",
      "metadata": {
        "id": "8RfeB2TP_q0_"
      },
      "source": [
        "Привести пример функции, не имеющей предела в точке, но определенной в ней.\n"
      ]
    },
    {
      "cell_type": "markdown",
      "metadata": {
        "id": "b3omy190ANaz"
      },
      "source": [
        "Примером такой функции может быть $f(x)=sgn(x)$<br>\n",
        "В точке $x=0$ данная функция принимает значение 0 и не имеет там предела\n"
      ]
    },
    {
      "cell_type": "markdown",
      "metadata": {
        "id": "Rvu2TbeHWyDa"
      },
      "source": [
        "### Задание 3"
      ]
    },
    {
      "cell_type": "markdown",
      "metadata": {
        "id": "TY08mcvRX6U8"
      },
      "source": [
        "Исследовать функцию $f(x)=x^3-x^2$  по плану:"
      ]
    },
    {
      "cell_type": "code",
      "metadata": {
        "colab": {
          "base_uri": "https://localhost:8080/",
          "height": 276
        },
        "id": "v0T63eZ7LFGy",
        "outputId": "5b088015-7190-440a-a448-32fdfe272316"
      },
      "source": [
        "# Построим график данной функции\n",
        "\n",
        "x = np.linspace(-100, 100, 500)\n",
        "y = x**3 - x**2\n",
        "plt.plot(x, y)\n",
        "plt.show()"
      ],
      "execution_count": 3,
      "outputs": [
        {
          "output_type": "display_data",
          "data": {
            "image/png": "[encoded data removed]",
            "text/plain": [
              "<Figure size 432x288 with 1 Axes>"
            ]
          },
          "metadata": {
            "tags": [],
            "needs_background": "light"
          }
        }
      ]
    },
    {
      "cell_type": "markdown",
      "metadata": {
        "id": "ryZBUqUcRECc"
      },
      "source": [
        "**а.** Область задания и область значений.\n"
      ]
    },
    {
      "cell_type": "markdown",
      "metadata": {
        "id": "mV2Qy1aSOrKc"
      },
      "source": [
        "Область задания: $(-\\infty;+\\infty)$<br>\n",
        "Область значений: $(-\\infty;+\\infty)$<br>\n",
        "\n",
        "\n",
        "\n"
      ]
    },
    {
      "cell_type": "markdown",
      "metadata": {
        "id": "K5qWLpHkTENk"
      },
      "source": [
        "**b.**Нули функции и их кратность"
      ]
    },
    {
      "cell_type": "markdown",
      "metadata": {
        "id": "qJLZkFRnTNur"
      },
      "source": [
        "Для нахождения нулей функции нужно решить уравнение: $x^3-x^2=0$<br>\n",
        "$x^2(x-1)=0$ <br>\n",
        "$x=0$ (вторая кратность) или $x=1$ (первая кратность)\n"
      ]
    },
    {
      "cell_type": "markdown",
      "metadata": {
        "id": "UaYgrOmsc37f"
      },
      "source": [
        "**c.**Отрезки знакопостоянства"
      ]
    },
    {
      "cell_type": "markdown",
      "metadata": {
        "id": "ltk-esK-dLDU"
      },
      "source": [
        "Зная нули функции, методом интевалов можно определить промежутки знакопостоянства <br>\n",
        "Положительные значения функции при $x\\in(1;+\\infty)$<br>\n",
        "Отрицательные значения функции при $x\\in(-\\infty;1]$\n"
      ]
    },
    {
      "cell_type": "markdown",
      "metadata": {
        "id": "fGiLxnrNfFGr"
      },
      "source": [
        "**d**. Интервалы монотонности"
      ]
    },
    {
      "cell_type": "code",
      "metadata": {
        "colab": {
          "base_uri": "https://localhost:8080/",
          "height": 265
        },
        "id": "gsKinxzyfUKh",
        "outputId": "9fc6a3b6-3597-4ea2-f497-71c0db1c6c2a"
      },
      "source": [
        "# Построим график функции в интервале от -1 до 1\n",
        "x = np.linspace(-1, 1, 500)\n",
        "y = x**3 - x**2\n",
        "plt.plot(x, y)\n",
        "plt.show()"
      ],
      "execution_count": 9,
      "outputs": [
        {
          "output_type": "display_data",
          "data": {
            "image/png": "[encoded data removed]",
            "text/plain": [
              "<Figure size 432x288 with 1 Axes>"
            ]
          },
          "metadata": {
            "tags": [],
            "needs_background": "light"
          }
        }
      ]
    },
    {
      "cell_type": "markdown",
      "metadata": {
        "id": "LClJhOrFgAJG"
      },
      "source": [
        "Из графика видно, что:<br>\n",
        "функция возрастает на отрезках $(-\\infty;0)$ и $(\\frac{2}{3};+\\infty)$<br>\n",
        "функция убывает на отрезке $(0;\\frac{2}{3})$"
      ]
    },
    {
      "cell_type": "markdown",
      "metadata": {
        "id": "NMbYFCvshd4w"
      },
      "source": [
        "**e**. Четность функции."
      ]
    },
    {
      "cell_type": "markdown",
      "metadata": {
        "id": "tzbFoN5oh8h4"
      },
      "source": [
        "$f(x)=x^3-x^2$<br>\n",
        "$f(-x)=-x^3-x^2$<br>\n",
        "Функция общего вида"
      ]
    },
    {
      "cell_type": "markdown",
      "metadata": {
        "id": "D8ApTk-rimcR"
      },
      "source": [
        "**f**. Ограниченность\n"
      ]
    },
    {
      "cell_type": "markdown",
      "metadata": {
        "id": "bEZn5JlcixY-"
      },
      "source": [
        "Из графика видно, что функция неограничена"
      ]
    },
    {
      "cell_type": "markdown",
      "metadata": {
        "id": "SnWlZ30XjFLu"
      },
      "source": [
        "**g**. Периодичность.\n"
      ]
    },
    {
      "cell_type": "markdown",
      "metadata": {
        "id": "dI0De0YgjOJt"
      },
      "source": [
        "$f(x+T)\\neq f(x)$<br>\n",
        "Функция непереодична"
      ]
    },
    {
      "cell_type": "markdown",
      "metadata": {
        "id": "Wph7OfPYUqe6"
      },
      "source": [
        "### Задание 4"
      ]
    },
    {
      "cell_type": "markdown",
      "metadata": {
        "id": "T4EoUcnmijj_"
      },
      "source": [
        "Найти предел"
      ]
    },
    {
      "cell_type": "markdown",
      "metadata": {
        "id": "FFw2sqdNj99i"
      },
      "source": [
        "**a.** $\\lim_{x\\to 0}\\frac{3x^3-2x^2}{4x^2}=\\lim_{x\\to 0}\\frac{x^2(3x-2)}{4x^2}=\\lim_{x\\to 0}\\frac{3x-2}{4}=-\\frac{1}{2}$ "
      ]
    },
    {
      "cell_type": "markdown",
      "metadata": {
        "id": "0E9bNsvhlkCM"
      },
      "source": [
        "**b.** $\\lim_{x\\to 0}\\frac{\\sqrt{1+x}-1}{\\sqrt[3]{1+x}-1}=\\lim_{x\\to 0}\\frac{(\\sqrt{1+x}-1)(\\sqrt{1+x}+1)(2+x+\\sqrt[3]{1+x})}{(\\sqrt[3]{1+x}-1)(\\sqrt{1+x}+1)(2+x+\\sqrt[3]{1+x})}=\\lim_{x\\to 0}\\frac{x(2+x+\\sqrt[3]{1+x})}{x(\\sqrt{1+x}+1)}=\\lim_{x\\to 0}\\frac{2+x+\\sqrt[3]{1+x}}{\\sqrt{1+x}+1}=\\frac{3}{2}$"
      ]
    },
    {
      "cell_type": "markdown",
      "metadata": {
        "id": "jtEq_DCsvvm8"
      },
      "source": [
        "## Теоремы о пределах"
      ]
    },
    {
      "cell_type": "markdown",
      "metadata": {
        "id": "QOwbld-XwB6V"
      },
      "source": [
        "Найти предел\n"
      ]
    },
    {
      "cell_type": "markdown",
      "metadata": {
        "id": "K0TwgEf2wEas"
      },
      "source": [
        "**a.** $\\lim_{x\\to0}\\frac{\\sin(2x)}{4x}=\\lim_{x\\to0}\\frac{\\sin(2x)}{2\\cdot2x}=\\frac{1}{2}$"
      ]
    },
    {
      "cell_type": "markdown",
      "metadata": {
        "id": "ziaqsIEsxJI-"
      },
      "source": [
        "**b.** $\\lim_{x\\to0}\\frac{x}{\\sin(x)}=1$"
      ]
    },
    {
      "cell_type": "markdown",
      "metadata": {
        "id": "9VvNeD4fyCrk"
      },
      "source": [
        "**с.**$\\lim_{x\\to0}\\frac{x}{\\arcsin(x)}=1$ (следствие из первого замечательного предела)"
      ]
    }
  ]
}