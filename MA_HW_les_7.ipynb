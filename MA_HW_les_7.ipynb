{
  "nbformat": 4,
  "nbformat_minor": 0,
  "metadata": {
    "colab": {
      "name": "MA_HW_les_7.ipynb",
      "provenance": [],
      "collapsed_sections": []
    },
    "kernelspec": {
      "name": "python3",
      "display_name": "Python 3"
    },
    "language_info": {
      "name": "python"
    }
  },
  "cells": [
    {
      "cell_type": "markdown",
      "metadata": {
        "id": "sgb6cWeu6dYk"
      },
      "source": [
        "#**Домашнее задание к уроку 7**"
      ]
    },
    {
      "cell_type": "markdown",
      "metadata": {
        "id": "-2t26VQkwyBx"
      },
      "source": [
        "## Производная функции одной переменной"
      ]
    },
    {
      "cell_type": "markdown",
      "metadata": {
        "id": "K8BOFdcKw59T"
      },
      "source": [
        "### Задание 1"
      ]
    },
    {
      "cell_type": "markdown",
      "metadata": {
        "id": "YLh11z5lxFt2"
      },
      "source": [
        "Найти длину 𝑥 и ширину 𝑦\n",
        "прямоугольника при заданном\n",
        "периметре 𝑃=144 cм, при которых\n",
        "данный прямоугольник имеет\n",
        "наибольшую площадь 𝑆\n",
        "\n",
        "\n",
        "\n"
      ]
    },
    {
      "cell_type": "markdown",
      "metadata": {
        "id": "749SYxZDy_c3"
      },
      "source": [
        "**Решение** <br>\n",
        "**1)** Периметр прямоугольника можно выразить по формуле: $P=2(x+y)$<br>\n",
        "Таким образом длина и ширина прямоугольника связаны соотношением: $2(x+y)=144$ или $x+y=72$<br>\n",
        "**2)** Выразим $y$ из данной формулы: $y=72-x$.<br>\n",
        "Площадь прямоугольника можно найти по формуле: $S=xy$<br>\n",
        "Подставим выражение для $y$ в формулу площади: $S=x(72-x)=72x-x^2$<br>\n",
        "В итоге получаем функцию площади: $S(x)=72x-x^2$<br>\n",
        "**3)** Найдём производную функции $S(x)$: $S^{'}(x)=72-2x$<br>\n",
        "Производная обращается в ноль при $x=36$<br>\n",
        "\n",
        "\n"
      ]
    },
    {
      "cell_type": "markdown",
      "metadata": {
        "id": "NNe7Y2_99eeQ"
      },
      "source": [
        "**4)** Отметим точку $x=36$ на числовой оси и определим знаки производной на полученных интервалах:<br>\n",
        "![image.png](data:image/png;base64,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)"
      ]
    },
    {
      "cell_type": "markdown",
      "metadata": {
        "id": "C04oFsi5-e_Z"
      },
      "source": [
        "**5)** Из рисунка видно, что максимум функции достигается в точке $x=36$.<br>\n",
        "Соответствующее значение $y$: $y=72-36=36$. Наибольшую площадь будет иметь прямоугольник с равными сторонами (квадрат)."
      ]
    },
    {
      "cell_type": "markdown",
      "metadata": {
        "id": "O80rsFxZ_xuY"
      },
      "source": [
        "**Ответ**: $x=y=36$"
      ]
    },
    {
      "cell_type": "markdown",
      "metadata": {
        "id": "Rvu2TbeHWyDa"
      },
      "source": [
        "### Задание 2"
      ]
    },
    {
      "cell_type": "markdown",
      "metadata": {
        "id": "TY08mcvRX6U8"
      },
      "source": [
        "Найти экстремумы функций \n",
        "(если они есть)."
      ]
    },
    {
      "cell_type": "markdown",
      "metadata": {
        "id": "ryZBUqUcRECc"
      },
      "source": [
        "**1.** $y=|2x|$<br>\n",
        "Найдем прозводную функции: $y'=\\frac{4x}{|2x|}, x\\neq0$ <br>\n",
        "В точке $x=0$ функция определена, а её производная нет.\n"
      ]
    },
    {
      "cell_type": "code",
      "metadata": {
        "colab": {
          "base_uri": "https://localhost:8080/",
          "height": 282
        },
        "id": "_lz1_hesTW3D",
        "outputId": "52fd2dcf-d1b8-480c-eaa3-5632c9a074c4"
      },
      "source": [
        "#Построим график функции и её производной\n",
        "import numpy as np\n",
        "from matplotlib import pyplot as plt\n",
        "%matplotlib inline\n",
        "\n",
        "x = np.linspace(-10, 10, 200)\n",
        "y = abs(2*x)\n",
        "y_diff =(4*x)/(abs(2*x))\n",
        "plt.plot(x, y)\n",
        "plt.plot(x, y_diff)\n",
        "\n",
        "plt.legend(labels = [\"y\",\"y'\"])"
      ],
      "execution_count": 11,
      "outputs": [
        {
          "output_type": "execute_result",
          "data": {
            "text/plain": [
              "<matplotlib.legend.Legend at 0x7fa32eae0b10>"
            ]
          },
          "metadata": {
            "tags": []
          },
          "execution_count": 11
        },
        {
          "output_type": "display_data",
          "data": {
            "image/png": "[encoded data removed]",
            "text/plain": [
              "<Figure size 432x288 with 1 Axes>"
            ]
          },
          "metadata": {
            "tags": [],
            "needs_background": "light"
          }
        }
      ]
    },
    {
      "cell_type": "markdown",
      "metadata": {
        "id": "vFt_ofusG-UA"
      },
      "source": [
        "Из графика видно, что функция принимает наименьшее значение $y=0$ в точке $x=0$"
      ]
    },
    {
      "cell_type": "markdown",
      "metadata": {
        "id": "e4knSNAAHjhx"
      },
      "source": [
        "**2.** $y=x^3$<br>\n"
      ]
    },
    {
      "cell_type": "markdown",
      "metadata": {
        "id": "l-CbINP5ICIm"
      },
      "source": [
        "Найдём производную функции: $y'=3x^2$.<br>\n",
        "Производная обращается в ноль в точке $x=0$<br>\n",
        "В других точках производная положительна (не меняет знак). Следовательно точка $x=0$ не является точкой экстремума.<br>\n",
        "Данная точка является точкой перегиба графика функции."
      ]
    },
    {
      "cell_type": "code",
      "metadata": {
        "colab": {
          "base_uri": "https://localhost:8080/",
          "height": 282
        },
        "id": "zcaJl0DqJlx0",
        "outputId": "c405f1fc-6b57-4274-bc86-9e3d1f0d5b85"
      },
      "source": [
        "#Построим график функции и её производной\n",
        "import numpy as np\n",
        "from matplotlib import pyplot as plt\n",
        "%matplotlib inline\n",
        "\n",
        "x = np.linspace(-10, 10, 200)\n",
        "y = x**3\n",
        "y_diff =2*(x**2)\n",
        "plt.plot(x, y)\n",
        "plt.plot(x, y_diff)\n",
        "\n",
        "plt.legend(labels = [\"y\",\"y'\"])"
      ],
      "execution_count": 12,
      "outputs": [
        {
          "output_type": "execute_result",
          "data": {
            "text/plain": [
              "<matplotlib.legend.Legend at 0x7fa32ea5fe90>"
            ]
          },
          "metadata": {
            "tags": []
          },
          "execution_count": 12
        },
        {
          "output_type": "display_data",
          "data": {
            "image/png": "[encoded data removed]",
            "text/plain": [
              "<Figure size 432x288 with 1 Axes>"
            ]
          },
          "metadata": {
            "tags": [],
            "needs_background": "light"
          }
        }
      ]
    },
    {
      "cell_type": "markdown",
      "metadata": {
        "id": "votX7UhzKCjF"
      },
      "source": [
        "**3.** $y = e^{3x}$<br>\n",
        "Найдём производную функции $y'=3e^{3x}$<br>\n",
        "Производная не обращается в ноль и положительна при любых значениях $x$, следовательно точек экстремума не существует. "
      ]
    },
    {
      "cell_type": "code",
      "metadata": {
        "colab": {
          "base_uri": "https://localhost:8080/",
          "height": 293
        },
        "id": "B2CyykvDLeLB",
        "outputId": "a027446f-6bf3-41b5-9a5b-0ef2390a4ef5"
      },
      "source": [
        "#Построим график функции и её производной\n",
        "import numpy as np\n",
        "from matplotlib import pyplot as plt\n",
        "%matplotlib inline\n",
        "\n",
        "x = np.linspace(-10, 10, 200)\n",
        "y = np.exp(3*x)\n",
        "y_diff =3*(np.exp(3*x))\n",
        "plt.plot(x, y)\n",
        "plt.plot(x, y_diff)\n",
        "\n",
        "plt.legend(labels = [\"y\",\"y'\"])"
      ],
      "execution_count": 13,
      "outputs": [
        {
          "output_type": "execute_result",
          "data": {
            "text/plain": [
              "<matplotlib.legend.Legend at 0x7fa32e9e4e50>"
            ]
          },
          "metadata": {
            "tags": []
          },
          "execution_count": 13
        },
        {
          "output_type": "display_data",
          "data": {
            "image/png": "[encoded data removed]",
            "text/plain": [
              "<Figure size 432x288 with 1 Axes>"
            ]
          },
          "metadata": {
            "tags": [],
            "needs_background": "light"
          }
        }
      ]
    },
    {
      "cell_type": "markdown",
      "metadata": {
        "id": "H7KUsAcGMLVT"
      },
      "source": [
        "**4**. $y=x^3-5x$<br>\n",
        "Найдём производную функции: $y'=3x^2-5$<br>\n",
        "Производная обращается в ноль в точках $y=\\pm\\sqrt{\\frac{5}{3}}.$"
      ]
    },
    {
      "cell_type": "markdown",
      "metadata": {
        "id": "y081qr07Npq5"
      },
      "source": [
        "Отметим на числовой оси данные точки и определим знаки производной на полученных интервалах:<br>\n",
        "![image.png](data:image/png;base64,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)\n"
      ]
    },
    {
      "cell_type": "markdown",
      "metadata": {
        "id": "o8PHz93qO0od"
      },
      "source": [
        "Из рисунка видно, что точка $x=-\\sqrt{\\frac{5}{3}}$ является точкой **максимума** функции, а точка $x = \\sqrt{\\frac{5}{3}}$ - точкой **минимума**."
      ]
    },
    {
      "cell_type": "code",
      "metadata": {
        "colab": {
          "base_uri": "https://localhost:8080/",
          "height": 282
        },
        "id": "Gv1prFZ-Pupf",
        "outputId": "474832be-a2f4-4007-9d1f-903ab540b0ae"
      },
      "source": [
        "#Построим график функции и её производной\n",
        "import numpy as np\n",
        "from matplotlib import pyplot as plt\n",
        "%matplotlib inline\n",
        "\n",
        "x = np.linspace(-4, 4, 200)\n",
        "y = x**3-5*x\n",
        "y_diff =3*(x**2)-5\n",
        "plt.plot(x, y)\n",
        "plt.plot(x, y_diff)\n",
        "\n",
        "plt.legend(labels = [\"y\",\"y'\"])"
      ],
      "execution_count": 14,
      "outputs": [
        {
          "output_type": "execute_result",
          "data": {
            "text/plain": [
              "<matplotlib.legend.Legend at 0x7fa32e979c10>"
            ]
          },
          "metadata": {
            "tags": []
          },
          "execution_count": 14
        },
        {
          "output_type": "display_data",
          "data": {
            "image/png": "[encoded data removed]",
            "text/plain": [
              "<Figure size 432x288 with 1 Axes>"
            ]
          },
          "metadata": {
            "tags": [],
            "needs_background": "light"
          }
        }
      ]
    }
  ]
}