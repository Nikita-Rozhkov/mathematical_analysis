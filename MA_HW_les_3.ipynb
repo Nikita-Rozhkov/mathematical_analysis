{
  "nbformat": 4,
  "nbformat_minor": 0,
  "metadata": {
    "colab": {
      "name": "MA_HW_les_3.ipynb",
      "provenance": []
    },
    "kernelspec": {
      "name": "python3",
      "display_name": "Python 3"
    },
    "language_info": {
      "name": "python"
    }
  },
  "cells": [
    {
      "cell_type": "markdown",
      "metadata": {
        "id": "sgb6cWeu6dYk"
      },
      "source": [
        "#**Домашнее задание к уроку 3**"
      ]
    },
    {
      "cell_type": "markdown",
      "metadata": {
        "id": "-2t26VQkwyBx"
      },
      "source": [
        "## Последовательность"
      ]
    },
    {
      "cell_type": "markdown",
      "metadata": {
        "id": "K8BOFdcKw59T"
      },
      "source": [
        "### Задание 1"
      ]
    },
    {
      "cell_type": "markdown",
      "metadata": {
        "id": "YLh11z5lxFt2"
      },
      "source": [
        "Даны 4 последовательности. Необходимо: <br>\n",
        "\n",
        "a.   исследовать их на монотонность;<br>\n",
        "b.   исследовать на ограниченность;<br>\n",
        "c.   найти пятый по счету член.\n",
        "\n",
        "\n",
        "\n",
        "\n"
      ]
    },
    {
      "cell_type": "markdown",
      "metadata": {
        "id": "Xqfe6Vxgx4sf"
      },
      "source": [
        "$\\{a_n\\}_{n=1}^{\\infty} = 2^n -n$"
      ]
    },
    {
      "cell_type": "markdown",
      "metadata": {
        "id": "749SYxZDy_c3"
      },
      "source": [
        "**Решение** <br>\n",
        "a. Вычислим разность $a_{n+1}-a_n$ <br>\n",
        "$a_{n+1}-a_n=2^{n+1} - (n+1) -(2^n-n)=2^n-1$ <br>\n",
        "Полученная разность положительна при всех натуральных $n$, поэтому последовательность **возрастающая** <br>\n",
        "\n"
      ]
    },
    {
      "cell_type": "code",
      "metadata": {
        "colab": {
          "base_uri": "https://localhost:8080/",
          "height": 494
        },
        "id": "iLiRRmc0CTmg",
        "outputId": "e5f4e572-5671-4892-c0da-871dd2d3273f"
      },
      "source": [
        "#b. Построим график\n",
        "import numpy as np\n",
        "from matplotlib import pyplot as plt\n",
        "%matplotlib inline\n",
        "\n",
        "x = np.arange(1, 51)\n",
        "y = 2**x - x \n",
        "print(y)\n",
        "plt.plot(x, y)\n",
        "plt.show()"
      ],
      "execution_count": 10,
      "outputs": [
        {
          "output_type": "stream",
          "text": [
            "[               1                2                5               12\n",
            "               27               58              121              248\n",
            "              503             1014             2037             4084\n",
            "             8179            16370            32753            65520\n",
            "           131055           262126           524269          1048556\n",
            "          2097131          4194282          8388585         16777192\n",
            "         33554407         67108838        134217701        268435428\n",
            "        536870883       1073741794       2147483617       4294967264\n",
            "       8589934559      17179869150      34359738333      68719476700\n",
            "     137438953435     274877906906     549755813849    1099511627736\n",
            "    2199023255511    4398046511062    8796093022165   17592186044372\n",
            "   35184372088787   70368744177618  140737488355281  281474976710608\n",
            "  562949953421263 1125899906842574]\n"
          ],
          "name": "stdout"
        },
        {
          "output_type": "display_data",
          "data": {
            "image/png": "[encoded data removed]",
            "text/plain": [
              "<Figure size 432x288 with 1 Axes>"
            ]
          },
          "metadata": {
            "tags": [],
            "needs_background": "light"
          }
        }
      ]
    },
    {
      "cell_type": "markdown",
      "metadata": {
        "id": "nJ2HuoREEz-q"
      },
      "source": [
        "Из графика видно, что последовательность ограничена снизу числом 1"
      ]
    },
    {
      "cell_type": "code",
      "metadata": {
        "colab": {
          "base_uri": "https://localhost:8080/"
        },
        "id": "Gn_s22Qp8gg5",
        "outputId": "fdefc180-9520-4188-815a-5ccc0711eb3f"
      },
      "source": [
        "# c. Вычислим 5-ый член\n",
        "a = lambda n: 2**n - n\n",
        "print(a(5))"
      ],
      "execution_count": null,
      "outputs": [
        {
          "output_type": "stream",
          "text": [
            "27\n"
          ],
          "name": "stdout"
        }
      ]
    },
    {
      "cell_type": "markdown",
      "metadata": {
        "id": "8RfeB2TP_q0_"
      },
      "source": [
        "$\\{b_n\\}_{n=2}^{\\infty} = \\frac {1} {1-n}$"
      ]
    },
    {
      "cell_type": "markdown",
      "metadata": {
        "id": "b3omy190ANaz"
      },
      "source": [
        "**Решение** <br>\n",
        "a. Вычислим разность $a_{n+1}-a_n$ <br>\n",
        "$a_{n+1}-a_n=\\frac {1} {1-(n+1)} - \\frac{1} {1-n} = \\frac{1} {n(n-1)}$ <br>\n",
        "Полученная разность положительна при всех натуральных $n\\geq 2$, поэтому последовательность **возрастающая** <br>\n"
      ]
    },
    {
      "cell_type": "code",
      "metadata": {
        "colab": {
          "base_uri": "https://localhost:8080/",
          "height": 416
        },
        "id": "N_38pMl2HKL2",
        "outputId": "4ae266c7-da74-4667-99ef-a5c79092d714"
      },
      "source": [
        "#b. Построим график\n",
        "import numpy as np\n",
        "from matplotlib import pyplot as plt\n",
        "%matplotlib inline\n",
        "\n",
        "x = np.arange(2, 51)\n",
        "y = 1 / (1 - x) \n",
        "print(y)\n",
        "plt.plot(x, y)\n",
        "plt.show()"
      ],
      "execution_count": 12,
      "outputs": [
        {
          "output_type": "stream",
          "text": [
            "[-1.         -0.5        -0.33333333 -0.25       -0.2        -0.16666667\n",
            " -0.14285714 -0.125      -0.11111111 -0.1        -0.09090909 -0.08333333\n",
            " -0.07692308 -0.07142857 -0.06666667 -0.0625     -0.05882353 -0.05555556\n",
            " -0.05263158 -0.05       -0.04761905 -0.04545455 -0.04347826 -0.04166667\n",
            " -0.04       -0.03846154 -0.03703704 -0.03571429 -0.03448276 -0.03333333\n",
            " -0.03225806 -0.03125    -0.03030303 -0.02941176 -0.02857143 -0.02777778\n",
            " -0.02702703 -0.02631579 -0.02564103 -0.025      -0.02439024 -0.02380952\n",
            " -0.02325581 -0.02272727 -0.02222222 -0.02173913 -0.0212766  -0.02083333\n",
            " -0.02040816]\n"
          ],
          "name": "stdout"
        },
        {
          "output_type": "display_data",
          "data": {
            "image/png": "[encoded data removed]",
            "text/plain": [
              "<Figure size 432x288 with 1 Axes>"
            ]
          },
          "metadata": {
            "tags": [],
            "needs_background": "light"
          }
        }
      ]
    },
    {
      "cell_type": "markdown",
      "metadata": {
        "id": "owwHbH1wHtvk"
      },
      "source": [
        "Из графика видно, что последовательность ограничена сверху числом **0** и числом **-1** снизу"
      ]
    },
    {
      "cell_type": "code",
      "metadata": {
        "colab": {
          "base_uri": "https://localhost:8080/"
        },
        "id": "TbWiDTMqHA9N",
        "outputId": "1ec05d5c-0c9f-49c5-cea0-0696b6a96141"
      },
      "source": [
        "# c. Вычислим 5-ый член\n",
        "b = lambda n: 1/(1-n)\n",
        "print(b(5))"
      ],
      "execution_count": null,
      "outputs": [
        {
          "output_type": "stream",
          "text": [
            "-0.25\n"
          ],
          "name": "stdout"
        }
      ]
    },
    {
      "cell_type": "markdown",
      "metadata": {
        "id": "BVWTrA77LDsx"
      },
      "source": [
        "\n",
        "\n",
        "$\\{c_n\\}_{n=1}^{\\infty} = -1^n+\\sqrt{2n}$"
      ]
    },
    {
      "cell_type": "markdown",
      "metadata": {
        "id": "RDFSGHGCM1yi"
      },
      "source": [
        "**Решение** <br>\n",
        "a. Вычислим разность $a_{n+1}-a_n$ <br>\n",
        "Можно заметить, что при любых натуральных $n$: $1^n = 1$ <br>\n",
        "$a_{n+1}-a_n=-1+\\sqrt{2(n+1)}+1 - \\sqrt{2n} = \\sqrt{2(n+1)}-\\sqrt{2n}$ <br>\n",
        "Полученная разность положительна при всех натуральных $n$, поэтому последовательность **возрастающая** <br>"
      ]
    },
    {
      "cell_type": "code",
      "metadata": {
        "colab": {
          "base_uri": "https://localhost:8080/",
          "height": 416
        },
        "id": "3RaER5yfJ15k",
        "outputId": "1b5eca9d-2261-46da-e0ba-87e1e5e8a4c2"
      },
      "source": [
        "#b. Построим график\n",
        "import numpy as np\n",
        "from matplotlib import pyplot as plt\n",
        "%matplotlib inline\n",
        "\n",
        "x = np.arange(1, 51)\n",
        "y = (-1)*(1**x)+(2*x)**0.5\n",
        "print(y)\n",
        "plt.plot(x, y)\n",
        "plt.show()"
      ],
      "execution_count": 13,
      "outputs": [
        {
          "output_type": "stream",
          "text": [
            "[0.41421356 1.         1.44948974 1.82842712 2.16227766 2.46410162\n",
            " 2.74165739 3.         3.24264069 3.47213595 3.69041576 3.89897949\n",
            " 4.09901951 4.29150262 4.47722558 4.65685425 4.83095189 5.\n",
            " 5.164414   5.32455532 5.4807407  5.63324958 5.78232998 5.92820323\n",
            " 6.07106781 6.21110255 6.34846923 6.48331477 6.61577311 6.74596669\n",
            " 6.87400787 7.         7.1240384  7.24621125 7.36660027 7.48528137\n",
            " 7.60232527 7.71779789 7.83176087 7.94427191 8.05538514 8.16515139\n",
            " 8.2736185  8.38083152 8.48683298 8.59166305 8.69535971 8.79795897\n",
            " 8.89949494 9.        ]\n"
          ],
          "name": "stdout"
        },
        {
          "output_type": "display_data",
          "data": {
            "image/png": "[encoded data removed]",
            "text/plain": [
              "<Figure size 432x288 with 1 Axes>"
            ]
          },
          "metadata": {
            "tags": [],
            "needs_background": "light"
          }
        }
      ]
    },
    {
      "cell_type": "markdown",
      "metadata": {
        "id": "ERvIJ_RWKicA"
      },
      "source": [
        "Из графика видно, что последовательность ограничена снизу числом $\\sqrt{2}-1$ "
      ]
    },
    {
      "cell_type": "code",
      "metadata": {
        "colab": {
          "base_uri": "https://localhost:8080/"
        },
        "id": "g3a-3z53OAfL",
        "outputId": "5fd6e47a-1148-4b13-fd35-7b8dc16e5009"
      },
      "source": [
        "# c. Вычислим 5-ый член\n",
        "c = lambda n: (-1)*(1**n)+(2*n)**0.5\n",
        "print(c(5))"
      ],
      "execution_count": null,
      "outputs": [
        {
          "output_type": "stream",
          "text": [
            "2.1622776601683795\n"
          ],
          "name": "stdout"
        }
      ]
    },
    {
      "cell_type": "markdown",
      "metadata": {
        "id": "X5dNZoFlTaNo"
      },
      "source": [
        "$\\{d_n\\}_{n=1}^{\\infty} = (-1)^{2n}+\\frac{1}{n^2}$"
      ]
    },
    {
      "cell_type": "markdown",
      "metadata": {
        "id": "qdqn2Ri7UBZJ"
      },
      "source": [
        "**Решение** <br>\n",
        "a. Вычислим разность $a_{n+1}-a_n$ <br>\n",
        "При любых натуральных $n$: $(-1)^{2n}=1$<br>\n",
        "$a_{n+1}-a_n=1+\\frac{1}{(n+1)^2}-1-\\frac{1}{n^2}=\\frac{-(2n+1)}{n^2(n+1)^2}$ <br>\n",
        "Полученная разность отрицательна при всех натуральных $n$, поэтому последовательность **убывающая** <br>\n",
        "\n"
      ]
    },
    {
      "cell_type": "code",
      "metadata": {
        "colab": {
          "base_uri": "https://localhost:8080/",
          "height": 416
        },
        "id": "UAHhkgV1N3rc",
        "outputId": "c0796c67-fd5a-404d-d405-bb63be1b590c"
      },
      "source": [
        "#b. Построим график\n",
        "import numpy as np\n",
        "from matplotlib import pyplot as plt\n",
        "%matplotlib inline\n",
        "\n",
        "x = np.arange(1, 51)\n",
        "y = (-1)**(2*x) + 1 / (x**2)\n",
        "print(y)\n",
        "plt.plot(x, y)\n",
        "plt.show()"
      ],
      "execution_count": 14,
      "outputs": [
        {
          "output_type": "stream",
          "text": [
            "[2.         1.25       1.11111111 1.0625     1.04       1.02777778\n",
            " 1.02040816 1.015625   1.01234568 1.01       1.00826446 1.00694444\n",
            " 1.00591716 1.00510204 1.00444444 1.00390625 1.00346021 1.00308642\n",
            " 1.00277008 1.0025     1.00226757 1.00206612 1.00189036 1.00173611\n",
            " 1.0016     1.00147929 1.00137174 1.00127551 1.00118906 1.00111111\n",
            " 1.00104058 1.00097656 1.00091827 1.00086505 1.00081633 1.0007716\n",
            " 1.00073046 1.00069252 1.00065746 1.000625   1.00059488 1.00056689\n",
            " 1.00054083 1.00051653 1.00049383 1.00047259 1.00045269 1.00043403\n",
            " 1.00041649 1.0004    ]\n"
          ],
          "name": "stdout"
        },
        {
          "output_type": "display_data",
          "data": {
            "image/png": "[encoded data removed]",
            "text/plain": [
              "<Figure size 432x288 with 1 Axes>"
            ]
          },
          "metadata": {
            "tags": [],
            "needs_background": "light"
          }
        }
      ]
    },
    {
      "cell_type": "markdown",
      "metadata": {
        "id": "vbin8EjPOfg-"
      },
      "source": [
        "Из графика видно, что последовательность ограничена сверху числом **2** и числом **0** снизу"
      ]
    },
    {
      "cell_type": "code",
      "metadata": {
        "colab": {
          "base_uri": "https://localhost:8080/"
        },
        "id": "ra4WbbGoV8TG",
        "outputId": "2378261c-1fc7-4836-97fe-d4ee59336638"
      },
      "source": [
        "# c. Вычислим 5-ый член\n",
        "d = lambda n: (-1)**(2*n) + 1 / (n**2)\n",
        "print(d(5))"
      ],
      "execution_count": null,
      "outputs": [
        {
          "output_type": "stream",
          "text": [
            "1.04\n"
          ],
          "name": "stdout"
        }
      ]
    },
    {
      "cell_type": "markdown",
      "metadata": {
        "id": "Rvu2TbeHWyDa"
      },
      "source": [
        "### Задание 2"
      ]
    },
    {
      "cell_type": "markdown",
      "metadata": {
        "id": "TY08mcvRX6U8"
      },
      "source": [
        "Найти 12-й член заданной неявно последовательности $a_1 =128, a_{n+1} - a_n =6 $"
      ]
    },
    {
      "cell_type": "markdown",
      "metadata": {
        "id": "ryZBUqUcRECc"
      },
      "source": [
        "$a_{n+1}=a_n +6$<br>\n",
        "Распишем формулы для нескольких первых членов последовательности: <br>\n",
        "$a_2 =a_1 +6$<br>\n",
        "$a_3 = a_2 + 6=a_1+6\\cdot2$<br>\n",
        "$a_4 = a_3 + 6=a_1+6\\cdot3$<br>\n",
        "Запишем формулу общего члена для данной псоледовательности:<br>\n",
        "$a_n = a_1 + 6(n-1)$<br>\n",
        "\n",
        "Из формулы видно, что последовательность является арифметической прогрессией\n"
      ]
    },
    {
      "cell_type": "code",
      "metadata": {
        "colab": {
          "base_uri": "https://localhost:8080/"
        },
        "id": "_lz1_hesTW3D",
        "outputId": "a003c392-edfb-4041-f957-ed53ce4d706f"
      },
      "source": [
        "#Вычислим 12 член последовательности\n",
        "a_1 = 128\n",
        "n = 12\n",
        "a_12 = 128 + 6 * (n-1)\n",
        "print(a_12)"
      ],
      "execution_count": 15,
      "outputs": [
        {
          "output_type": "stream",
          "text": [
            "194\n"
          ],
          "name": "stdout"
        }
      ]
    },
    {
      "cell_type": "markdown",
      "metadata": {
        "id": "Wph7OfPYUqe6"
      },
      "source": [
        "### Задание 3"
      ]
    },
    {
      "cell_type": "markdown",
      "metadata": {
        "id": "j3La_zESUwrE"
      },
      "source": [
        "На языке Python предложить алгоритм вычисляющий численно предел с точностью $\\epsilon = 10^{-7}$"
      ]
    },
    {
      "cell_type": "code",
      "metadata": {
        "id": "wgbilQXHVia9"
      },
      "source": [
        "from math import factorial\n",
        "\n",
        "def f(n):\n",
        "  result = n /((factorial(n))**(1/n))\n",
        "  return result\n"
      ],
      "execution_count": 17,
      "outputs": []
    },
    {
      "cell_type": "code",
      "metadata": {
        "colab": {
          "base_uri": "https://localhost:8080/"
        },
        "id": "V_1AXnbLW2ZW",
        "outputId": "017afdca-51e0-44ef-b18e-fb8b9a167b7e"
      },
      "source": [
        "n, eps = 0, 1\n",
        "while eps > 0.01:\n",
        "  n += 1\n",
        "  eps = abs(f(n+1) - f(n))\n",
        "print(f(n))"
      ],
      "execution_count": 21,
      "outputs": [
        {
          "output_type": "stream",
          "text": [
            "2.429795111070674\n"
          ],
          "name": "stdout"
        }
      ]
    }
  ]
}