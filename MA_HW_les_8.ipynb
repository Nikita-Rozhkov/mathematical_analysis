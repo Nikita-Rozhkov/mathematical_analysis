{
  "nbformat": 4,
  "nbformat_minor": 0,
  "metadata": {
    "colab": {
      "name": "MA_HW_les_8.ipynb",
      "provenance": [],
      "collapsed_sections": []
    },
    "kernelspec": {
      "name": "python3",
      "display_name": "Python 3"
    },
    "language_info": {
      "name": "python"
    }
  },
  "cells": [
    {
      "cell_type": "markdown",
      "metadata": {
        "id": "sgb6cWeu6dYk"
      },
      "source": [
        "#**Домашнее задание к уроку 8**"
      ]
    },
    {
      "cell_type": "markdown",
      "metadata": {
        "id": "-2t26VQkwyBx"
      },
      "source": [
        "## Производные функций нескольких переменных"
      ]
    },
    {
      "cell_type": "markdown",
      "metadata": {
        "id": "K8BOFdcKw59T"
      },
      "source": [
        "### Задание 1"
      ]
    },
    {
      "cell_type": "markdown",
      "metadata": {
        "id": "YLh11z5lxFt2"
      },
      "source": [
        "Найдите область определения функции\n",
        "\n",
        "\n",
        "\n"
      ]
    },
    {
      "cell_type": "markdown",
      "metadata": {
        "id": "fYlG6eaddejZ"
      },
      "source": [
        "$z=\\sqrt{1-x^3}+\\ln(y^2-1)$"
      ]
    },
    {
      "cell_type": "markdown",
      "metadata": {
        "id": "ufAQ6yXUecq2"
      },
      "source": [
        "Область определения данной функции задается двумя неравенствами: $1-x^3\\geq0$ и $y^2-1>0$<br>\n",
        "**1)** $1-x^3\\geq0$<br>\n",
        "       $x^3\\leq1$<br>\n",
        "       $x \\in (-\\infty;1]$<br>\n",
        "**2)** $y^2-1>0$<br>\n",
        "$(y-1)(y+1)>0$<br>\n",
        "$y \\in (-\\infty;-1) \\cup(1;+\\infty)$\n"
      ]
    },
    {
      "cell_type": "markdown",
      "metadata": {
        "id": "Rvu2TbeHWyDa"
      },
      "source": [
        "### Задание 2"
      ]
    },
    {
      "cell_type": "markdown",
      "metadata": {
        "id": "TY08mcvRX6U8"
      },
      "source": [
        " Найти производные 1-го порядка функции."
      ]
    },
    {
      "cell_type": "markdown",
      "metadata": {
        "id": "ryZBUqUcRECc"
      },
      "source": [
        "$z=(1+\\frac{\\ln(x)}{\\ln(y)})^3$<br>\n",
        "\n"
      ]
    },
    {
      "cell_type": "markdown",
      "metadata": {
        "id": "MjyChn-ssR3x"
      },
      "source": [
        "$z_x'=3(1+\\frac{\\ln(x)}{\\ln(y)})^2(1+\\frac{\\ln(x)}{\\ln(y)})'=3(1+\\frac{\\ln(x)}{\\ln(y)})^2\\frac{1}{x\\ln(y)}$"
      ]
    },
    {
      "cell_type": "markdown",
      "metadata": {
        "id": "PmKdMUKcthSl"
      },
      "source": [
        "$z_y'=3(1+\\frac{\\ln(x)}{\\ln(y)})^2(1+\\frac{\\ln(x)}{\\ln(y)})'=3(1+\\frac{\\ln(x)}{\\ln(y)})^2\\ln(x)(\\frac{1}{\\ln(y)})'=-3(1+\\frac{\\ln(x)}{\\ln(y)})^2\\ln(x)(\\frac{1}{y\\ln^2(y)})$"
      ]
    },
    {
      "cell_type": "markdown",
      "metadata": {
        "id": "TEyOxpIsv2k9"
      },
      "source": [
        "### Задание 3\n"
      ]
    },
    {
      "cell_type": "markdown",
      "metadata": {
        "id": "HMFtJCu4wH7E"
      },
      "source": [
        "Найти полный дифференциал функции в точке (1;1)."
      ]
    },
    {
      "cell_type": "markdown",
      "metadata": {
        "id": "K3V7CM-YwSvS"
      },
      "source": [
        "$z=\\sqrt{2xy+\\cos{\\frac{x}{y}}}$"
      ]
    },
    {
      "cell_type": "markdown",
      "metadata": {
        "id": "HID1QGo1w0NB"
      },
      "source": [
        "**1.** Вычислим первую производную по $x$:<br>\n",
        "$z_x'=\\frac{1}{2\\sqrt{2xy+\\cos{\\frac{x}{y}}}}(2y-\\frac{1}{y}\\sin(\\frac{x}{y}))$<br>\n",
        "**2.** Вычислим первую производную по $y$:<br>\n",
        "$z_y'=\\frac{1}{2\\sqrt{2xy+\\cos{\\frac{x}{y}}}}(2x+\\frac{x}{y^2}\\sin(\\frac{x}{y}))$<br>"
      ]
    },
    {
      "cell_type": "code",
      "metadata": {
        "colab": {
          "base_uri": "https://localhost:8080/"
        },
        "id": "GSqQL20p0hjR",
        "outputId": "a3c4d87e-c589-4a7a-b680-7740f0c49665"
      },
      "source": [
        "from math import *\n",
        "x = 1\n",
        "y = 1\n",
        "z_x = (1/(2*sqrt(2*x*y + cos(x / y))) * (2*y - (1/y)*sin(x/y)))\n",
        "z_y = (1/(2*sqrt(2*x*y + cos(x / y))) * (2*x + (x/y**2)*sin(x/y)))\n",
        "print(z_x)\n",
        "print(z_y)\n",
        "\n"
      ],
      "execution_count": 10,
      "outputs": [
        {
          "output_type": "stream",
          "text": [
            "0.3634412506091521\n",
            "0.8913956877609672\n"
          ],
          "name": "stdout"
        }
      ]
    },
    {
      "cell_type": "markdown",
      "metadata": {
        "id": "16byiDS73nXH"
      },
      "source": [
        "**3.** Полный диффернциал: <br>\n",
        "$dz=0,363dx+0.891dz$"
      ]
    },
    {
      "cell_type": "markdown",
      "metadata": {
        "id": "6OcufvID9ao_"
      },
      "source": [
        "### Задание 4"
      ]
    },
    {
      "cell_type": "markdown",
      "metadata": {
        "id": "YWYKpCdZ9dVK"
      },
      "source": [
        "Исследовать на экстремум функцию\n"
      ]
    },
    {
      "cell_type": "markdown",
      "metadata": {
        "id": "AVsQVK1v9lfH"
      },
      "source": [
        "$z=x^2+xy+y^2-6x-9y$"
      ]
    },
    {
      "cell_type": "markdown",
      "metadata": {
        "id": "qBsxA-OB-D4L"
      },
      "source": [
        "**1.** Вычислим производные первого порядка:<br>\n",
        "$z_x' =2x+y-6$<br>\n",
        "$z_y' =x+2y-9$<br>\n",
        "**2.** Приравняем эти производные к нулю и решим полученную систему уравнений:<br>\n",
        "\\begin{equation*}\n",
        " \\begin{cases}\n",
        "   2x+y-6=0 \n",
        "   \\\\\n",
        "   x+2y-9=0\n",
        "   \\end{cases}\n",
        "\\end{equation*}<br>\n",
        "\n",
        "\\begin{equation*}\n",
        " \\begin{cases}\n",
        "   -4x-2y+12=0 \n",
        "   \\\\\n",
        "   x+2y-9=0\n",
        "   \\end{cases}\n",
        "\\end{equation*}<br>\n",
        "\n",
        "\\begin{equation*}\n",
        " \\begin{cases}\n",
        "   -3x+3=0 \n",
        "   \\\\\n",
        "   x+2y-9=0\n",
        "   \\end{cases}\n",
        "\\end{equation*}<br>\n",
        "\n",
        "\\begin{equation*}\n",
        " \\begin{cases}\n",
        "   x=1\n",
        "   \\\\\n",
        "   2y-8=0\n",
        "   \\end{cases}\n",
        "\\end{equation*}<br>\n",
        "\n",
        "\\begin{equation*}\n",
        " \\begin{cases}\n",
        "   x=1\n",
        "   \\\\\n",
        "   y=4\n",
        "   \\end{cases}\n",
        "\\end{equation*}<br>\n",
        "Возможная точка экстремума $M(1;4)$\n",
        "\n",
        "\n"
      ]
    },
    {
      "cell_type": "markdown",
      "metadata": {
        "id": "p4Su85ifHqMq"
      },
      "source": [
        "**3.**Вычислим производные второго порядка:<br>\n",
        "$z_{xx}'=2$<br>\n",
        "$z_{yy}'=2$<br>\n",
        "$z_{xy}'=z_{yx}'=1$<br>\n",
        "Составим определитель из этих производных:<br>\n",
        "\\begin{vmatrix}\n",
        "  2   & 1\\\\\n",
        "  1& 2\n",
        "\\end{vmatrix}\n",
        "\n",
        "Вычислим значение данного определителя:<br>\n",
        "$\\Delta = 4-1=3$<br>\n",
        "Т.к. $\\Delta > 0$ и $z_{xx}>0$, то точка $M(4;1)$ - точка минимума"
      ]
    }
  ]
}