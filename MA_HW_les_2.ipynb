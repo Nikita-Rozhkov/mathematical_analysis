{
  "nbformat": 4,
  "nbformat_minor": 0,
  "metadata": {
    "colab": {
      "name": "MA_HW_les_2.ipynb",
      "provenance": [],
      "collapsed_sections": []
    },
    "kernelspec": {
      "name": "python3",
      "display_name": "Python 3"
    },
    "language_info": {
      "name": "python"
    }
  },
  "cells": [
    {
      "cell_type": "markdown",
      "metadata": {
        "id": "sgb6cWeu6dYk"
      },
      "source": [
        "#**Домашнее задание к уроку 2**"
      ]
    },
    {
      "cell_type": "markdown",
      "metadata": {
        "id": "N5PxQ0lbpwvo"
      },
      "source": [
        "## Введение в математический анализ"
      ]
    },
    {
      "cell_type": "markdown",
      "metadata": {
        "id": "kglzeEZP732O"
      },
      "source": [
        "### Задание 1"
      ]
    },
    {
      "cell_type": "markdown",
      "metadata": {
        "id": "clNZd7sb8K5A"
      },
      "source": [
        "Как соотносятся понятия “множество” и “последовательность”? (в ответе использовать слова типа: часть, целое, общее, частное, родитель, дочерний субъект и т. д.)"
      ]
    },
    {
      "cell_type": "markdown",
      "metadata": {
        "id": "jrMrYROy0N5p"
      },
      "source": [
        "**Ответ:**\n",
        "Последовательность является результатом выбора элементов заданных множеств и связана с множеством натуральных чисел, поэтому можно сказать, что последовательность относится к множеству как дочерний субъект к родителю."
      ]
    },
    {
      "cell_type": "markdown",
      "metadata": {
        "id": "LY8NAsfe8mKb"
      },
      "source": [
        "### Задание 2"
      ]
    },
    {
      "cell_type": "markdown",
      "metadata": {
        "id": "R-ktNg5A5zfq"
      },
      "source": [
        "Прочитать высказывания математической логики, построить их отрицания и установить\n",
        "истинность."
      ]
    },
    {
      "cell_type": "markdown",
      "metadata": {
        "id": "rk08IEr18zSL"
      },
      "source": [
        "Высказывание: $\\forall y \\in [0;1]: sgn(y)= 1$  <br>\n",
        "\n",
        "Отрицание: $\\exists y \\in [0;1]: sgn(y)\\neq 1$ <br>\n",
        "\n",
        "Высказывание ложно\n",
        "\n",
        "\n"
      ]
    },
    {
      "cell_type": "markdown",
      "metadata": {
        "id": "do713iLM6Bch"
      },
      "source": [
        "Высказывание: $\\forall n \\in \\mathbb{N}>2:\\exists x,y,z\\in \\mathbb{N} :x^n=y^n+z^n$  <br>\n",
        "\n",
        "Отрицание: $\\exists n \\in \\mathbb{N}>2:\\forall x,y,z\\in \\mathbb{N} :x^n\\neq y^n+z^n$ <br>\n",
        "\n",
        "Высказывание истинно"
      ]
    },
    {
      "cell_type": "markdown",
      "metadata": {
        "id": "MAnvlXvgOky6"
      },
      "source": [
        "Высказывание: $\\forall x \\in \\mathbb{R} \\exists  X \\in \\mathbb{R}: X > x$ <br>\n",
        "Отрицание: $\\exists x \\in \\mathbb{R} \\forall  X \\in \\mathbb{R}: X \\leqslant x$ <br>\n",
        "высказывание истинно\n"
      ]
    },
    {
      "cell_type": "markdown",
      "metadata": {
        "id": "1SUZfvyDDK6q"
      },
      "source": [
        "Высказывание: $\\forall x \\in \\mathbb{C} \\nexists y \\in \\mathbb{C}: x > y || x < y $ <br>\n",
        "Отрицание: $\\exists x \\in \\mathbb{C}  \\forall y \\in \\mathbb{C}: x \\leqslant y, x \\geqslant y $ <br>\n",
        "Высказывание ложно"
      ]
    },
    {
      "cell_type": "markdown",
      "metadata": {
        "id": "0MPtZssCTnr0"
      },
      "source": [
        "Высказывание: $\\forall y \\in [0;\\frac{\\pi}{2}] \\exists \\epsilon > 0: \\sin y < \\ sin (y + \\epsilon)$ <br>\n",
        "Отрицание: $\\exists y \\in [0;\\frac{\\pi}{2}] \\forall \\epsilon \\leqslant 0: \\sin y \\geqslant \\ sin (y + \\epsilon)$ <br>\n",
        "Высказывание ложно"
      ]
    },
    {
      "cell_type": "markdown",
      "metadata": {
        "id": "OpAmUgdxahxY"
      },
      "source": [
        "Высказывание: $\\forall y \\in [0;\\pi) \\exists \\epsilon > 0: \\cos y > \\ cos (y + \\epsilon)$ <br>\n",
        "Отрицание: $\\exists y \\in [0;\\pi) \\forall \\epsilon \\leqslant 0: \\cos y \\leqslant \\ cos (y + \\epsilon)$ <br>\n",
        "Высказывание ложно"
      ]
    },
    {
      "cell_type": "markdown",
      "metadata": {
        "id": "nlDyxDK0dIPC"
      },
      "source": [
        "Высказывание: $\\exists x: x \\notin \\{ \\mathbb{N},\\mathbb{Z},\\mathbb{Q},\\mathbb{R},\\mathbb{C}\\}$ <br>\n",
        "Отрицание: $\\forall x : x\\notin \\{ \\mathbb {N, Z, Q, R, C } \\}$ <br>\n",
        "Высказывание ложно\n"
      ]
    },
    {
      "cell_type": "markdown",
      "metadata": {
        "id": "BuF7C7MYkcYm"
      },
      "source": [
        "## Множество"
      ]
    },
    {
      "cell_type": "markdown",
      "metadata": {
        "id": "5D_BfIkJkjjD"
      },
      "source": [
        "### Задание 1 и 2"
      ]
    },
    {
      "cell_type": "markdown",
      "metadata": {
        "id": "4J9etcK8kpZY"
      },
      "source": [
        "1. Даны три множества a,b и с. Необходимо выполнить все изученные виды бинарных\n",
        "операций над всеми комбинациями множеств.\n",
        "2. *Выполнить задание 1 на языке Python\n"
      ]
    },
    {
      "cell_type": "code",
      "metadata": {
        "colab": {
          "base_uri": "https://localhost:8080/"
        },
        "id": "fNSJqeXU376S",
        "outputId": "7b5708d5-36db-4c48-aea1-4316ae2f56f8"
      },
      "source": [
        "# Cгенерируем три множества из целых чисел случайным образом\n",
        "from random import randint\n",
        "A = set([randint(el, 10) for el in range(0,10)])\n",
        "B = set([randint(el, 10) for el in range(0,10)])\n",
        "C = set([randint(el, 10) for el in range(0,10)])\n",
        "print('Множество A:', A)\n",
        "print('Множество B:', B)\n",
        "print('Множество C:', C)"
      ],
      "execution_count": null,
      "outputs": [
        {
          "output_type": "stream",
          "text": [
            "Множество A: {1, 5, 7, 8, 9, 10}\n",
            "Множество B: {0, 5, 6, 7, 8, 9}\n",
            "Множество C: {5, 6, 8, 9, 10}\n"
          ],
          "name": "stdout"
        }
      ]
    },
    {
      "cell_type": "code",
      "metadata": {
        "id": "mz08PCRlmS75"
      },
      "source": [
        "#Функция, выполняющая все бинарные операции со множествами\n",
        "def set_operations(X: set, Y: set):\n",
        "  un = X | Y\n",
        "  intersect = X & Y\n",
        "  diff = X - Y\n",
        "  sym_diff = X ^ Y\n",
        "  result = {'union': un, 'intersection': intersect, 'difference': diff, 'symmetric difference': sym_diff}\n",
        "  return result"
      ],
      "execution_count": null,
      "outputs": []
    },
    {
      "cell_type": "code",
      "metadata": {
        "colab": {
          "base_uri": "https://localhost:8080/"
        },
        "id": "vMv_ypfioiax",
        "outputId": "3e9e7b1f-6e12-4af3-88fe-c925a25e963a"
      },
      "source": [
        "print('Множества A и B')\n",
        "print(set_operations(A, B))"
      ],
      "execution_count": null,
      "outputs": [
        {
          "output_type": "stream",
          "text": [
            "Множества A и B\n",
            "{'union': {0, 1, 5, 6, 7, 8, 9, 10}, 'intersection': {8, 9, 5, 7}, 'difference': {1, 10}, 'symmetric difference': {0, 1, 6, 10}}\n"
          ],
          "name": "stdout"
        }
      ]
    },
    {
      "cell_type": "code",
      "metadata": {
        "colab": {
          "base_uri": "https://localhost:8080/"
        },
        "id": "OvB9ZPONr2Iy",
        "outputId": "b6bbf708-df78-4286-8fee-cdc38c0d13c6"
      },
      "source": [
        "print('Множества A и C')\n",
        "print(set_operations(A, C))"
      ],
      "execution_count": null,
      "outputs": [
        {
          "output_type": "stream",
          "text": [
            "Множества A и C\n",
            "{'union': {1, 5, 6, 7, 8, 9, 10}, 'intersection': {8, 9, 10, 5}, 'difference': {1, 7}, 'symmetric difference': {1, 6, 7}}\n"
          ],
          "name": "stdout"
        }
      ]
    },
    {
      "cell_type": "code",
      "metadata": {
        "colab": {
          "base_uri": "https://localhost:8080/"
        },
        "id": "ZPw-GsyZr_X3",
        "outputId": "6ae3791d-8c1b-41c5-e7d7-4c5383d67d44"
      },
      "source": [
        "print('Множества B и C')\n",
        "print(set_operations(B, C))"
      ],
      "execution_count": null,
      "outputs": [
        {
          "output_type": "stream",
          "text": [
            "Множества B и C\n",
            "{'union': {0, 5, 6, 7, 8, 9, 10}, 'intersection': {8, 9, 5, 6}, 'difference': {0, 7}, 'symmetric difference': {0, 7, 10}}\n"
          ],
          "name": "stdout"
        }
      ]
    }
  ]
}