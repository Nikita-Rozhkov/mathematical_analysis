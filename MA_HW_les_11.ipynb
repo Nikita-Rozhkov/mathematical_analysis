{
  "nbformat": 4,
  "nbformat_minor": 0,
  "metadata": {
    "colab": {
      "name": "MA_HW_les_11.ipynb",
      "provenance": [],
      "collapsed_sections": []
    },
    "kernelspec": {
      "name": "python3",
      "display_name": "Python 3"
    },
    "language_info": {
      "name": "python"
    }
  },
  "cells": [
    {
      "cell_type": "markdown",
      "metadata": {
        "id": "sgb6cWeu6dYk"
      },
      "source": [
        "#**Домашнее задание к уроку 11**"
      ]
    },
    {
      "cell_type": "markdown",
      "metadata": {
        "id": "-2t26VQkwyBx"
      },
      "source": [
        "## Ряды"
      ]
    },
    {
      "cell_type": "markdown",
      "metadata": {
        "id": "K8BOFdcKw59T"
      },
      "source": [
        "### Задание 1"
      ]
    },
    {
      "cell_type": "markdown",
      "metadata": {
        "id": "YLh11z5lxFt2"
      },
      "source": [
        "Исследовать ряд на сходимость, используя признак д’Аламбера:\n",
        "\n",
        "\n",
        "\n",
        "\n"
      ]
    },
    {
      "cell_type": "markdown",
      "metadata": {
        "id": "Xqfe6Vxgx4sf"
      },
      "source": [
        "$\\sum_{n=1}^{\\infty} \\frac{n^n}{(n!)^2}$"
      ]
    },
    {
      "cell_type": "markdown",
      "metadata": {
        "id": "749SYxZDy_c3"
      },
      "source": [
        "**1**. Вычислим сначала $\\frac{a_{n+1}}{a_n}$:<br>\n",
        "$\\frac{a_{n+1}}{a_n}=\\frac{(n+1)^{n+1}(n!)^2}{((n+1)!)^2n^n}=\\frac{(n+1)^n(n+1)(n!)^2}{(n+1)^2(n!)^2n^n}=(\\frac{n+1}{n})^n\\frac{1}{n+1}$"
      ]
    },
    {
      "cell_type": "markdown",
      "metadata": {
        "id": "p1C7PtaMNdEe"
      },
      "source": [
        "**2.** Вычислим предел:<br>\n",
        "$\\lim_{n\\to\\infty}{\\frac{a_{n+1}}{a_n}}=\\lim_{n\\to\\infty}{(\\frac{n+1}{n})^n\\frac{1}{n+1}}=\\lim_{n\\to\\infty}{(1+\\frac{1}{n}})^n\\cdot \\lim_{n\\to\\infty}{\\frac{1}{n+1}}=e \\cdot 0 =0$ **(ряд сходится)**\n"
      ]
    },
    {
      "cell_type": "markdown",
      "metadata": {
        "id": "Rvu2TbeHWyDa"
      },
      "source": [
        "### Задание 2"
      ]
    },
    {
      "cell_type": "markdown",
      "metadata": {
        "id": "TY08mcvRX6U8"
      },
      "source": [
        "Исследовать ряд на сходимость, используя радикальный признак Коши:"
      ]
    },
    {
      "cell_type": "markdown",
      "metadata": {
        "id": "ryZBUqUcRECc"
      },
      "source": [
        "$\\sum_{n=1}^{\\infty} \\frac{n}{2^n}$\n"
      ]
    },
    {
      "cell_type": "markdown",
      "metadata": {
        "id": "GMjEZ9OLS3BV"
      },
      "source": [
        "$\\lim_{n \\to \\infty}{\\sqrt[n]\\frac{n}{2^n}}=\\lim_{n \\to \\infty}{\\frac{\\sqrt[n]n}{2}}=\\lim_{n \\to \\infty}{\\frac{n^{\\frac{1}{n}}}{2}}=\\frac{1}{2}$  **(ряд сходится)**<br> "
      ]
    },
    {
      "cell_type": "markdown",
      "metadata": {
        "id": "OoeHOq6RskPb"
      },
      "source": [
        "### Задание 3"
      ]
    },
    {
      "cell_type": "markdown",
      "metadata": {
        "id": "EGYkehfOspYO"
      },
      "source": [
        "Исследовать ряд на сходимость, используя признак Лейбница:\n"
      ]
    },
    {
      "cell_type": "markdown",
      "metadata": {
        "id": "m9XpS5dKtE13"
      },
      "source": [
        "$\\sum_{n=1}^\\infty \\frac{(-1)^n}{n+\\ln n}$"
      ]
    },
    {
      "cell_type": "markdown",
      "metadata": {
        "id": "FQ8V-s8G4Ns1"
      },
      "source": [
        "**1.** Вычислим сначала предел:<br>\n",
        "$\\lim_{n\\to \\infty}{\\frac{1}{n+\\ln n}}=0$"
      ]
    },
    {
      "cell_type": "markdown",
      "metadata": {
        "id": "FKUFj0MJ5hNG"
      },
      "source": [
        "**2.** Проверим выполнение условия $|a_n|\\geq|a_{n+1}|$ с помощью графика:"
      ]
    },
    {
      "cell_type": "code",
      "metadata": {
        "id": "bUg_KlI06InZ",
        "colab": {
          "base_uri": "https://localhost:8080/",
          "height": 282
        },
        "outputId": "903eaafe-8349-49a0-9b4f-840780672f01"
      },
      "source": [
        "import numpy as np\n",
        "from matplotlib import pyplot as plt\n",
        "%matplotlib inline\n",
        "\n",
        "n = np.linspace(1, 100, 200)\n",
        "y = 1/(n+np.log(n))\n",
        "plt.plot(n, y)\n"
      ],
      "execution_count": 4,
      "outputs": [
        {
          "output_type": "execute_result",
          "data": {
            "text/plain": [
              "[<matplotlib.lines.Line2D at 0x7f01cba682d0>]"
            ]
          },
          "metadata": {
            "tags": []
          },
          "execution_count": 4
        },
        {
          "output_type": "display_data",
          "data": {
            "image/png": "[encoded data removed]",
            "text/plain": [
              "<Figure size 432x288 with 1 Axes>"
            ]
          },
          "metadata": {
            "tags": [],
            "needs_background": "light"
          }
        }
      ]
    },
    {
      "cell_type": "markdown",
      "metadata": {
        "id": "YoCgQNJE7V_L"
      },
      "source": [
        "Из графика видно, что последовательность убывает при всех натуральных $n$.<br>\n",
        "Оба условия по признаку Лейбница выполнены, следовательно ряд сходится."
      ]
    },
    {
      "cell_type": "markdown",
      "metadata": {
        "id": "Wph7OfPYUqe6"
      },
      "source": [
        "### Задание 4"
      ]
    },
    {
      "cell_type": "markdown",
      "metadata": {
        "id": "j3La_zESUwrE"
      },
      "source": [
        "Исследовать ряд на сходимость, используя признак Раабе:\n"
      ]
    },
    {
      "cell_type": "markdown",
      "metadata": {
        "id": "J9GSUziWYIPV"
      },
      "source": [
        "$\\sum_{n=1}^{\\infty} \\frac{3^n}{2^n}$\n"
      ]
    },
    {
      "cell_type": "markdown",
      "metadata": {
        "id": "th6C6DyHYg9Q"
      },
      "source": [
        "**1**. Вычислим сначала $\\frac{a_{n}}{a_{n+1}}$:<br>\n",
        "$\\frac{a_{n}}{a_{n+1}}=\\frac{3^n \\cdot {2^{n+1}}}{2^n \\cdot {3^{n+1}}}=\\frac{2}{3}$"
      ]
    },
    {
      "cell_type": "markdown",
      "metadata": {
        "id": "jrW4cNDNZ7go"
      },
      "source": [
        "**2.** Вычислим предел:<br>\n",
        "$\\lim_{n\\to\\infty}{n(\\frac{a_{n}}{a_{n+1}}-1)}=\\lim_{n\\to\\infty}\\frac{-n}{3}=-\\infty$ **(ряд расходится)**\n"
      ]
    },
    {
      "cell_type": "markdown",
      "metadata": {
        "id": "ZoJU2wtF-FCQ"
      },
      "source": [
        "### Задание 5"
      ]
    },
    {
      "cell_type": "markdown",
      "metadata": {
        "id": "txoO-e53-SZ5"
      },
      "source": [
        "Разложить функцию по Тейлору в единице:"
      ]
    },
    {
      "cell_type": "markdown",
      "metadata": {
        "id": "D8g-0RLe-Tqg"
      },
      "source": [
        "$f(x)=\\ln (16x^2)$"
      ]
    },
    {
      "cell_type": "markdown",
      "metadata": {
        "id": "WL0-J08U-dKf"
      },
      "source": [
        "$f(1)=\\ln16$<br>\n",
        "$f'(x)=\\frac{2}{x}$<br>\n",
        "$f'(1)=2$<br>\n",
        "$f''(x)=-\\frac{2}{x^2}$<br>\n",
        "$f''(1)=-2$<br>\n",
        "$f'''(x)=\\frac{4}{x^3}$<br>\n",
        "$f'''(1)=4$<br>\n",
        "$f^{(4)}(x)=-\\frac{12}{x^4}$<br>\n",
        "$f^{(4)}(1)=-12$<br>\n",
        "$f^{(5)}(x)=\\frac{48}{x^5}$<br>\n",
        "$f^{(5)}(1)=48$<br>"
      ]
    },
    {
      "cell_type": "markdown",
      "metadata": {
        "id": "LShuTelhB6-A"
      },
      "source": [
        "$f(x)=\\ln(16)+2(x-1)-(x-1)^2+\\frac{2}{3}(x-1)^3-\\frac{1}{2}(x-1)^4+\\frac{2}{5}(x-1)^5+...+\\frac{f^{(n)}(x)}{n!}(x-1)^n$"
      ]
    }
  ]
}