{
  "nbformat": 4,
  "nbformat_minor": 0,
  "metadata": {
    "colab": {
      "name": "MA_HW_les_9.ipynb",
      "provenance": [],
      "collapsed_sections": []
    },
    "kernelspec": {
      "name": "python3",
      "display_name": "Python 3"
    },
    "language_info": {
      "name": "python"
    }
  },
  "cells": [
    {
      "cell_type": "markdown",
      "metadata": {
        "id": "sgb6cWeu6dYk"
      },
      "source": [
        "#**Домашнее задание к уроку 9**"
      ]
    },
    {
      "cell_type": "markdown",
      "metadata": {
        "id": "-2t26VQkwyBx"
      },
      "source": [
        "## Производные функций нескольких переменных"
      ]
    },
    {
      "cell_type": "markdown",
      "metadata": {
        "id": "OKacbumtrj3i"
      },
      "source": [
        "### Исследовать функцию на условный экстремум"
      ]
    },
    {
      "cell_type": "markdown",
      "metadata": {
        "id": "K8BOFdcKw59T"
      },
      "source": [
        "### Задание 1"
      ]
    },
    {
      "cell_type": "markdown",
      "metadata": {
        "id": "fYlG6eaddejZ"
      },
      "source": [
        "$U=3-8x+6y$, если $x^2+y^2=36$"
      ]
    },
    {
      "cell_type": "markdown",
      "metadata": {
        "id": "ufAQ6yXUecq2"
      },
      "source": [
        "**1)** Составим выражение для функции Лагранжа:<br>\n",
        "$L(x,y,\\lambda_1)=3-8x+6y+\\lambda_1(x^2+y^2-36)$<br>\n",
        "**2)** Вычислим производные первого порядка для функции Лагранжа:<br>\n",
        "$L'_x=-8+2\\lambda_1x$<br>\n",
        "$L'_y=6+2\\lambda_1y$<br>\n",
        "$L'_\\lambda=x^2+y^2-36$"
      ]
    },
    {
      "cell_type": "markdown",
      "metadata": {
        "id": "SBrWB30buraZ"
      },
      "source": [
        "**3)** Составим систему уравнений, приравняв каждую из вычесленных производных к нулю:<br>\n",
        "\\begin{equation*}\n",
        " \\begin{cases}\n",
        "   -8+2\\lambda_1x=0 \n",
        "   \\\\\n",
        "   6+2\\lambda_1y=0\n",
        "   \\\\\n",
        "   x^2+y^2-36=0\n",
        "   \\end{cases}\n",
        "\\end{equation*}<br>\n",
        "\n",
        "\\begin{equation*}\n",
        " \\begin{cases}\n",
        "   x=\\frac{4}{\\lambda_1} \n",
        "   \\\\\n",
        "   y=\\frac{-3}{\\lambda_1}\n",
        "   \\\\\n",
        "   \\frac{16}{\\lambda_1^2}+\\frac{9}{\\lambda_1^2}-36=0\n",
        "   \\end{cases}\n",
        "\\end{equation*}<br>\n",
        "\n",
        "$\\lambda_1=\\pm\\frac{5}{6}$<br>\n",
        "Таким образом получаем два решения: $(\\frac{5}{6};4,8;-3,6)$ и $(-\\frac{5}{6};-4,8;3,6)$"
      ]
    },
    {
      "cell_type": "markdown",
      "metadata": {
        "id": "ECoXscfm0SnD"
      },
      "source": [
        "**4)** Вычислим производные второго порядка для функции Лагранжа:<br>\n",
        "$L''_{xx}=2\\lambda_1$<br>\n",
        "$L''_{yy}=2\\lambda_1$<br>\n",
        "$L''_{\\lambda\\lambda}=0$<br>\n",
        "$L''_{xy}=0$<br>\n",
        "$L''_{x\\lambda}=2x$<br>\n",
        "$L''_{y\\lambda}=2y$<br>\n",
        "\n"
      ]
    },
    {
      "cell_type": "markdown",
      "metadata": {
        "id": "88_zQkKN4XKp"
      },
      "source": [
        "**5)** Сосатвим определитель из вторых производных: <br>\n",
        "\\begin{vmatrix}\n",
        "  0   & 2x & 2y\\\\\n",
        "  2x   & 2\\lambda_1 & 0 \\\\\n",
        "  2y & 0 & 2\\lambda_1\n",
        "\\end{vmatrix}<br>\n",
        "$\\Delta = 0(4\\lambda_1)-2x(4x\\lambda_1)+2y(-4y\\lambda_1)=-8\\lambda_1x^2-8\\lambda_1y^2=-8\\lambda_1(x^2+y^2)$\n"
      ]
    },
    {
      "cell_type": "markdown",
      "metadata": {
        "id": "WUfqAyQv8bHW"
      },
      "source": [
        "**6)** Подставим в выражение для определителя решения системы уравнений:<br>\n",
        "Первое решение $(\\frac{5}{6};4,8;-3,6)$: $\\Delta = -240$ **(точка минимума)**<br>\n",
        "Второе решение $(-\\frac{5}{6};-4,8;3,6)$: $\\Delta = 240$ **(точка максимума)**<br>\n"
      ]
    },
    {
      "cell_type": "markdown",
      "metadata": {
        "id": "Rvu2TbeHWyDa"
      },
      "source": [
        "### Задание 2"
      ]
    },
    {
      "cell_type": "markdown",
      "metadata": {
        "id": "TY08mcvRX6U8"
      },
      "source": [
        "$U=2x^2+12xy+32y^2+15$, если $x^2+16y^2=64$"
      ]
    },
    {
      "cell_type": "markdown",
      "metadata": {
        "id": "bym9i9pk_zf7"
      },
      "source": [
        "**1)** Составим выражение для функции Лагранжа:<br>\n",
        "$L(x,y,\\lambda_1)=2x^2+12xy+32y^2+15+\\lambda_1(x^2+16y^2-64)$<br>\n",
        "**2)** Вычислим производные первого порядка для функции Лагранжа:<br>\n",
        "$L'_x=4x+12y+2\\lambda_1x$<br>\n",
        "$L'_y=12x+64y+32\\lambda_1y$<br>\n",
        "$L'_\\lambda=x^2+16y^2-64$"
      ]
    },
    {
      "cell_type": "markdown",
      "metadata": {
        "id": "ulKD3J_SRNPf"
      },
      "source": [
        "**3)** Составим систему уравнений, приравняв каждую из вычесленных производных к нулю:<br>\n",
        "\\begin{equation*}\n",
        " \\begin{cases}\n",
        "   4x+12y+2\\lambda_1x=0 \n",
        "   \\\\\n",
        "   12x+64y+32\\lambda_1y=0\n",
        "   \\\\\n",
        "   x^2+16y^2-64=0\n",
        "   \\end{cases}\n",
        "\\end{equation*}<br>\n",
        "\n",
        "\\begin{equation*}\n",
        " \\begin{cases}\n",
        "   2x+6y+\\lambda_1x=0 \n",
        "   \\\\\n",
        "   3x+16y+8\\lambda_1y=0\n",
        "   \\\\\n",
        "   x^2+16y^2-64=0\n",
        "   \\end{cases}\n",
        "\\end{equation*}<br>\n",
        "\n",
        "\\begin{equation*}\n",
        " \\begin{cases}\n",
        "   \\lambda_1=\\frac{-2x-6y}{x} \n",
        "   \\\\\n",
        "   \\lambda_1=\\frac{-3x-16y}{8y}\n",
        "   \\\\\n",
        "   x^2+16y^2-64=0\n",
        "   \\end{cases}\n",
        "\\end{equation*}<br>\n",
        "\n",
        "\\begin{equation*}\n",
        " \\begin{cases}\n",
        "   \\lambda_1=\\frac{-2x-6y}{x} \n",
        "   \\\\\n",
        "   \\frac{-2x-6y}{x}=\\frac{-3x-16y}{8y}\n",
        "   \\\\\n",
        "   x^2+16y^2-64=0\n",
        "   \\end{cases}\n",
        "\\end{equation*}<br>\n",
        "\n",
        "\\begin{equation*}\n",
        " \\begin{cases}\n",
        "   \\lambda_1=\\frac{-2x-6y}{x} \n",
        "   \\\\\n",
        "   16y^2-x^2=0\n",
        "   \\\\\n",
        "   x^2+16y^2-64=0\n",
        "   \\end{cases}\n",
        "\\end{equation*}<br>\n",
        "\n",
        "\\begin{equation*}\n",
        " \\begin{cases}\n",
        "   \\lambda_1=\\frac{-2x-6y}{x} \n",
        "   \\\\\n",
        "   x=\\pm4y\n",
        "   \\\\\n",
        "   x^2+16y^2-64=0\n",
        "   \\end{cases}\n",
        "\\end{equation*}<br>\n",
        "\n",
        "Таким образом получаем четыре решения: $(-3,5;4\\sqrt{2};\\sqrt{2})$ , $(-3,5;-4\\sqrt{2};-\\sqrt{2})$ , $(-0,5;-4\\sqrt{2};\\sqrt{2})$ и $(-0,5;4\\sqrt{2};-\\sqrt{2})$"
      ]
    },
    {
      "cell_type": "markdown",
      "metadata": {
        "id": "1E_alodEf70p"
      },
      "source": [
        "**4)** Вычислим производные второго порядка для функции Лагранжа:<br>\n",
        "$L''_{xx}=4+2\\lambda_1$<br>\n",
        "$L''_{yy}=64+32\\lambda_1$<br>\n",
        "$L''_{\\lambda\\lambda}=0$<br>\n",
        "$L''_{xy}=12$<br>\n",
        "$L''_{x\\lambda}=2x$<br>\n",
        "$L''_{y\\lambda}=32y$<br>\n",
        "\n"
      ]
    },
    {
      "cell_type": "markdown",
      "metadata": {
        "id": "DKJE5UU5hYZZ"
      },
      "source": [
        "**5)** Сосатвим определитель из вторых производных: <br>\n",
        "\\begin{vmatrix}\n",
        "  0   & 2x & 32y\\\\\n",
        "  2x   & 4+2\\lambda_1 & 12 \\\\\n",
        "  32y & 12 & 64+32\\lambda_1\n",
        "\\end{vmatrix}<br>\n",
        "$\\Delta = 0(64(\\lambda_1+2)^2-144)-2x(64x(\\lambda_1+2)-384y)+32y(24x-64y(\\lambda_1+2))=-2x(64x(\\lambda_1+2)-384y)+32y(24x-64y(\\lambda_1+2))$\n"
      ]
    },
    {
      "cell_type": "markdown",
      "metadata": {
        "id": "ciDusvIMksiG"
      },
      "source": [
        "**6)** Подставим в выражение для определителя решения системы уравнений:<br>\n",
        "Первое решение $(-3,5;4\\sqrt{2};\\sqrt{2})$: $\\Delta =24576$ **(точка максимума)**<br>\n",
        "Второе решение $(-3,5;-4\\sqrt{2};-\\sqrt{2})$: $\\Delta = 24576$ **(точка максимума)**<br>\n",
        "Третье решение $(-0,5;-4\\sqrt{2};\\sqrt{2})$: $\\Delta = -24576$ **(точка минимума)**<br>\n",
        "Четвертое решение $(-0,5;4\\sqrt{2};-\\sqrt{2})$: $\\Delta = -24576$ **(точка минимума)**<br>\n"
      ]
    },
    {
      "cell_type": "markdown",
      "metadata": {
        "id": "TEyOxpIsv2k9"
      },
      "source": [
        "### Задание 3\n"
      ]
    },
    {
      "cell_type": "markdown",
      "metadata": {
        "id": "HMFtJCu4wH7E"
      },
      "source": [
        "Найти производную функции $U=x^2+y^2+z^2$ по направлению вектора $\\vec{c}(-9,8,-12)$ в точку $M(8;-12;9)$."
      ]
    },
    {
      "cell_type": "markdown",
      "metadata": {
        "id": "HID1QGo1w0NB"
      },
      "source": [
        "**1)** Вычислим модуль вектора $\\vec{c}$:<br>\n",
        "$|\\vec{c}|=\\sqrt{9^2+8^2+12^2}=17$<br>\n",
        "Координаты нормированного вектора $\\vec{c_0}$: <br>\n",
        "$\\vec{c_0}=\\frac{\\vec{c}}{|\\vec{c}|}=(-\\frac{9}{17},\\frac{8}{17},-\\frac{12}{17})$\n"
      ]
    },
    {
      "cell_type": "markdown",
      "metadata": {
        "id": "5hed6ihXvyfE"
      },
      "source": [
        "**2)** Найдём производные первого порядка для функции $U$:<br>\n",
        "$U'_x=2x$<br>\n",
        "$U'_y=2y$<br>\n",
        "$U'_z=2z$<br>\n"
      ]
    },
    {
      "cell_type": "markdown",
      "metadata": {
        "id": "r0jzpweB2B-c"
      },
      "source": [
        "**3)** Найдём градиент функции $U$ в точке $M$:<br>\n",
        "$\\nabla U=(16;-24;18)$"
      ]
    },
    {
      "cell_type": "markdown",
      "metadata": {
        "id": "qx-JcglSx98t"
      },
      "source": [
        "**4)** Вычислим скалярное произведения вектора градиента и вектора $\\vec{c_0}$:<br>\n",
        "$\\vec{\\nabla}\\cdot\\vec{c_0}=-\\frac{9}{17}\\cdot16+\\frac{8}{17}\\cdot(-24)-\\frac{12}{17}\\cdot18=-\\frac{552}{17}$"
      ]
    },
    {
      "cell_type": "markdown",
      "metadata": {
        "id": "6OcufvID9ao_"
      },
      "source": [
        "### Задание 4"
      ]
    },
    {
      "cell_type": "markdown",
      "metadata": {
        "id": "GvoEv6in0Fpl"
      },
      "source": [
        "Найти производную функции $U=e^{x^2+y^2+z^2}$ по направлению вектора $\\vec{d}(4,-13,-16)$ в точку $L(-16;4;-13)$."
      ]
    },
    {
      "cell_type": "markdown",
      "metadata": {
        "id": "xDEjBhYb0wIz"
      },
      "source": [
        "**1)** Вычислим модуль вектора $\\vec{d}$:<br>\n",
        "$|\\vec{d}|=\\sqrt{4^2+13^2+16^2}=21$<br>\n",
        "Координаты нормированного вектора $\\vec{d_0}$: <br>\n",
        "$\\vec{d_0}=\\frac{\\vec{d}}{|\\vec{d}|}=(\\frac{4}{21},-\\frac{13}{21},-\\frac{16}{21})$\n"
      ]
    },
    {
      "cell_type": "markdown",
      "metadata": {
        "id": "lOTw_czS1jsR"
      },
      "source": [
        "**2)** Найдём производные первого порядка для функции $U$:<br>\n",
        "$U'_x=2xe^{x^2+y^2+z^2}$<br>\n",
        "$U'_y=2ye^{x^2+y^2+z^2}$<br>\n",
        "$U'_z=2ze^{x^2+y^2+z^2}$<br>\n"
      ]
    },
    {
      "cell_type": "markdown",
      "metadata": {
        "id": "pnG9tf2gwh6P"
      },
      "source": [
        "**3)** Найдём градиент функции $U$ в точке $L$:<br>\n",
        "$\\nabla U=(-32e^{441};8e^{441};-26e^{441})$"
      ]
    },
    {
      "cell_type": "markdown",
      "metadata": {
        "id": "BQ47-Bjr3Kga"
      },
      "source": [
        "**4)** Вычислим скалярное произведения вектора градиента и вектора $\\vec{d_0}$:<br>\n",
        "$\\vec{\\nabla}\\cdot\\vec{d_0}=e^{441}(-\\frac{4}{21}\\cdot32-\\frac{13}{21}\\cdot8+\\frac{16}{21}\\cdot26)=\\frac{184}{21}e^{441}$"
      ]
    }
  ]
}